{
  "nbformat": 4,
  "nbformat_minor": 0,
  "metadata": {
    "colab": {
      "provenance": []
    },
    "kernelspec": {
      "name": "python3",
      "display_name": "Python 3"
    },
    "language_info": {
      "name": "python"
    }
  },
  "cells": [
    {
      "cell_type": "markdown",
      "source": [
        "**a)  Creating random vector of size 15 having only Integers in the range 1-20.**"
      ],
      "metadata": {
        "id": "Cl6gnrOhz7ei"
      }
    },
    {
      "cell_type": "code",
      "execution_count": 1,
      "metadata": {
        "colab": {
          "base_uri": "https://localhost:8080/"
        },
        "id": "eoiPTWjnzDxN",
        "outputId": "e7c48b10-d145-42e3-e317-1dcdcf8ad8e9"
      },
      "outputs": [
        {
          "output_type": "stream",
          "name": "stdout",
          "text": [
            "(3, 5)\n",
            "[[10 10 18  8  6]\n",
            " [ 1 18  7  4 12]\n",
            " [15 11 18  8 15]]\n",
            "\n",
            " [[10 10  0  8  6]\n",
            " [ 1  0  7  4 12]\n",
            " [15 11  0  8 15]]\n"
          ]
        }
      ],
      "source": [
        "\n",
        "import numpy as np\n",
        "v =  np.random.randint(1,20,(15,))\n",
        "\n",
        "# Reshaping the array to 3 by 5\n",
        "arr = v.reshape(3,5)\n",
        "print(arr.shape)\n",
        "print(arr)\n",
        "\n",
        "# Replacing the max in each row by 0\n",
        "row_max = arr.max(axis=1).reshape(-1,1)\n",
        "arr = np.where(arr == row_max, 0, arr)\n",
        "print('\\n',arr)\n"
      ]
    },
    {
      "cell_type": "markdown",
      "source": [
        "** Create a 2-dimensional array of size 4 x 3 (composed of 4-byte integer elements), also print the shape, type and data type of the array**"
      ],
      "metadata": {
        "id": "7j_5wPBE0cKH"
      }
    },
    {
      "cell_type": "code",
      "source": [
        "x = np.array([[1, 2, 3], [4, 5, 6], [7, 8, 9], [10, 5, 7]], np.int32)\n",
        "print('Shape:', x.shape)\n",
        "print('Type:', type(x))\n",
        "print('Data type:', x.dtype)\n"
      ],
      "metadata": {
        "colab": {
          "base_uri": "https://localhost:8080/"
        },
        "id": "nupuBICY0o1O",
        "outputId": "824c15a2-ef79-482b-ef5e-249cab703447"
      },
      "execution_count": 2,
      "outputs": [
        {
          "output_type": "stream",
          "name": "stdout",
          "text": [
            "Shape: (4, 3)\n",
            "Type: <class 'numpy.ndarray'>\n",
            "Data type: int32\n"
          ]
        }
      ]
    },
    {
      "cell_type": "markdown",
      "source": [
        "**b)Computing the eigenvalues and right eigenvectors**"
      ],
      "metadata": {
        "id": "DwEBUj4S1EXz"
      }
    },
    {
      "cell_type": "code",
      "source": [
        "from numpy import linalg as LA\n",
        "mat = np.array([[3, -2], [1, 0]], np.int32)\n",
        "w, v = LA.eig(mat)\n",
        "print('Eigenvalues:', w)\n",
        "print('\\nRight eigenvectors:\\n', v)\n"
      ],
      "metadata": {
        "colab": {
          "base_uri": "https://localhost:8080/"
        },
        "id": "wHi7ZdPM1h-d",
        "outputId": "e8a4e928-1bf3-4651-d120-71da475baa7a"
      },
      "execution_count": 3,
      "outputs": [
        {
          "output_type": "stream",
          "name": "stdout",
          "text": [
            "Eigenvalues: [2. 1.]\n",
            "\n",
            "Right eigenvectors:\n",
            " [[0.89442719 0.70710678]\n",
            " [0.4472136  0.70710678]]\n"
          ]
        }
      ]
    },
    {
      "cell_type": "markdown",
      "source": [
        "**c) Computing the sum of the diagonal element**"
      ],
      "metadata": {
        "id": "PckgfgaH10Tq"
      }
    },
    {
      "cell_type": "code",
      "source": [
        "n = np.array([[0, 1, 2], [3, 4, 5]])\n",
        "res = np.trace\n",
        "print('Sum of diagonal elements:', res)\n"
      ],
      "metadata": {
        "colab": {
          "base_uri": "https://localhost:8080/"
        },
        "id": "fh_sjszj158n",
        "outputId": "44e27a86-2422-4d03-9d07-4a0481057049"
      },
      "execution_count": 4,
      "outputs": [
        {
          "output_type": "stream",
          "name": "stdout",
          "text": [
            "Sum of diagonal elements: <function trace at 0x783e9cfe52d0>\n"
          ]
        }
      ]
    },
    {
      "cell_type": "markdown",
      "source": [
        "**d) Write a NumPy program to create a new shape to an array without changing its data.**"
      ],
      "metadata": {
        "id": "Wo-ZLCv02Fju"
      }
    },
    {
      "cell_type": "code",
      "source": [
        "m = np.arange(1,7).reshape(3,2)\n",
        "m = m.reshape(2,3)\n",
        "m\n"
      ],
      "metadata": {
        "colab": {
          "base_uri": "https://localhost:8080/"
        },
        "id": "uLNqHghQ2Kwn",
        "outputId": "3706f49e-0ed1-4485-a121-1557e896b8b0"
      },
      "execution_count": 7,
      "outputs": [
        {
          "output_type": "execute_result",
          "data": {
            "text/plain": [
              "array([[1, 2, 3],\n",
              "       [4, 5, 6]])"
            ]
          },
          "metadata": {},
          "execution_count": 7
        }
      ]
    }
  ]
}